{
 "cells": [
  {
   "cell_type": "code",
   "execution_count": 1,
   "metadata": {},
   "outputs": [],
   "source": [
    "import pandas as pd\n",
    "import pingouin as pg"
   ]
  },
  {
   "cell_type": "markdown",
   "metadata": {},
   "source": [
    "Example 1"
   ]
  },
  {
   "cell_type": "code",
   "execution_count": 2,
   "metadata": {},
   "outputs": [
    {
     "name": "stdout",
     "output_type": "stream",
     "text": [
      "               T  dof alternative         p-val           CI95%   cohen-d  \\\n",
      "T-test -7.350368   18   two-sided  8.010860e-07  [-0.11, -0.06]  3.287184   \n",
      "\n",
      "             BF10  power  \n",
      "T-test  1.311e+04    1.0  \n"
     ]
    }
   ],
   "source": [
    "# Simulating data: Group A and Group B with different means and standard deviations\n",
    "data = pd.DataFrame({\n",
    "    \"conversion_rate\": [0.1, 0.15, 0.08, 0.12, 0.11, 0.15, 0.14, 0.13, 0.09, 0.16,\n",
    "                        0.21, 0.22, 0.20, 0.19, 0.18, 0.24, 0.23, 0.25, 0.17, 0.22],\n",
    "    \"group\": [\"A\"] * 10 + [\"B\"] * 10\n",
    "})\n",
    "\n",
    "# Using Pingouin to perform an independent t-test\n",
    "results = pg.ttest(data[data['group'] == 'A']['conversion_rate'],\n",
    "                   data[data['group'] == 'B']['conversion_rate'],\n",
    "                   alternative='two-sided')\n",
    "\n",
    "print(results)"
   ]
  },
  {
   "cell_type": "markdown",
   "metadata": {},
   "source": [
    "Example 2"
   ]
  },
  {
   "cell_type": "code",
   "execution_count": 3,
   "metadata": {},
   "outputs": [
    {
     "name": "stdout",
     "output_type": "stream",
     "text": [
      "          W  pval  equal_var\n",
      "levene  0.0   1.0       True\n"
     ]
    }
   ],
   "source": [
    "# Data simulation: creating two groups with different variances\n",
    "data_var = pd.DataFrame({\n",
    "    \"time_on_site\": [5, 7, 8, 5, 6, 7, 5, 6, 7, 8,\n",
    "                     10, 12, 11, 13, 12, 10, 11, 12, 13, 14],\n",
    "    \"group\": [\"A\"] * 10 + [\"B\"] * 10\n",
    "})\n",
    "\n",
    "# Performing Levene's test for equality of variances\n",
    "levene_results = pg.homoscedasticity(data_var, dv='time_on_site', group='group', method='levene')\n",
    "print(levene_results)"
   ]
  },
  {
   "cell_type": "markdown",
   "metadata": {},
   "source": [
    "Example 3"
   ]
  },
  {
   "cell_type": "code",
   "execution_count": 6,
   "metadata": {},
   "outputs": [
    {
     "name": "stdout",
     "output_type": "stream",
     "text": [
      "      Source  ddof1  ddof2          F     p-unc       ng2  eps\n",
      "0  condition      1      9  33.906977  0.000252  0.144256  1.0\n"
     ]
    }
   ],
   "source": [
    "# Data simulation: Repeated measures in an A/B testing scenario\n",
    "data_repeated = pd.DataFrame({\n",
    "    \"user_id\": list(range(1, 11)) * 2,  # Converting range to list and replicating for two conditions\n",
    "    \"usability_score\": [78, 75, 80, 82, 85, 86, 88, 90, 87, 89,\n",
    "                        80, 83, 85, 87, 86, 89, 91, 93, 90, 92],\n",
    "    \"condition\": [\"Before\"] * 10 + [\"After\"] * 10\n",
    "})\n",
    "\n",
    "# Performing repeated measures ANOVA\n",
    "anova_results = pg.rm_anova(dv='usability_score', within='condition', subject='user_id', data=data_repeated)\n",
    "print(anova_results)"
   ]
  },
  {
   "cell_type": "markdown",
   "metadata": {},
   "source": [
    "Example 4"
   ]
  },
  {
   "cell_type": "code",
   "execution_count": 7,
   "metadata": {},
   "outputs": [
    {
     "name": "stdout",
     "output_type": "stream",
     "text": [
      "          n    r       CI95%  p-val BF10  power\n",
      "pearson  10  1.0  [1.0, 1.0]    0.0  inf      1\n"
     ]
    }
   ],
   "source": [
    "# Data: Examining correlation between time spent on site and purchase amount\n",
    "data_corr = pd.DataFrame({\n",
    "    \"time_spent\": [5, 10, 15, 20, 25, 30, 35, 40, 45, 50],\n",
    "    \"purchase_amount\": [20, 40, 60, 80, 100, 120, 140, 160, 180, 200]\n",
    "})\n",
    "\n",
    "# Calculating Pearson correlation\n",
    "correlation_results = pg.corr(data_corr['time_spent'], data_corr['purchase_amount'])\n",
    "print(correlation_results)"
   ]
  },
  {
   "cell_type": "markdown",
   "metadata": {},
   "source": [
    "Example 5"
   ]
  },
  {
   "cell_type": "code",
   "execution_count": 8,
   "metadata": {},
   "outputs": [
    {
     "name": "stdout",
     "output_type": "stream",
     "text": [
      "              T  dof alternative         p-val          CI95%   cohen-d  \\\n",
      "T-test  9.56901   19   two-sided  1.065003e-08  [8.48, 13.22]  1.114615   \n",
      "\n",
      "             BF10    power  \n",
      "T-test  1.182e+06  0.99711  \n"
     ]
    }
   ],
   "source": [
    "# Simulating data for the same users trying two different processes\n",
    "data_paired = pd.DataFrame({\n",
    "    \"user_id\": range(1, 21),\n",
    "    \"time_A\": [120, 110, 123, 130, 115, 125, 120, 115, 110, 118, 122, 125, 130, 140, 135, 150, 145, 132, 138, 140],\n",
    "    \"time_B\": [115, 105, 110, 120, 110, 115, 112, 108, 105, 111, 117, 110, 115, 125, 120, 130, 128, 125, 120, 125]\n",
    "})\n",
    "\n",
    "# Performing a paired sample t-test\n",
    "paired_results = pg.ttest(data_paired['time_A'], data_paired['time_B'], paired=True)\n",
    "print(paired_results)"
   ]
  },
  {
   "cell_type": "markdown",
   "metadata": {},
   "source": [
    "Example 6"
   ]
  },
  {
   "cell_type": "code",
   "execution_count": 9,
   "metadata": {},
   "outputs": [
    {
     "name": "stdout",
     "output_type": "stream",
     "text": [
      "     U-val alternative     p-val   RBC   CLES\n",
      "MWU   20.5   two-sided  0.027832  0.59  0.205\n"
     ]
    }
   ],
   "source": [
    "# Simulating sales data for two promotional strategies\n",
    "data_sales = pd.DataFrame({\n",
    "    \"sales\": [20, 30, 15, 10, 50, 25, 40, 30, 20, 55, 60, 45, 40, 35, 25, 65, 70, 50, 45, 30],\n",
    "    \"strategy\": [\"A\"] * 10 + [\"B\"] * 10\n",
    "})\n",
    "\n",
    "# Performing Mann-Whitney U Test\n",
    "mwu_results = pg.mwu(data_sales[data_sales['strategy'] == 'A']['sales'],\n",
    "                     data_sales[data_sales['strategy'] == 'B']['sales'],\n",
    "                     alternative='two-sided')\n",
    "print(mwu_results)"
   ]
  },
  {
   "cell_type": "code",
   "execution_count": null,
   "metadata": {},
   "outputs": [],
   "source": []
  }
 ],
 "metadata": {
  "kernelspec": {
   "display_name": "py38",
   "language": "python",
   "name": "python3"
  },
  "language_info": {
   "codemirror_mode": {
    "name": "ipython",
    "version": 3
   },
   "file_extension": ".py",
   "mimetype": "text/x-python",
   "name": "python",
   "nbconvert_exporter": "python",
   "pygments_lexer": "ipython3",
   "version": "3.8.8"
  }
 },
 "nbformat": 4,
 "nbformat_minor": 2
}
